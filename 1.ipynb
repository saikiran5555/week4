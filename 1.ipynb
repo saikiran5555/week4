{
 "cells": [
  {
   "cell_type": "markdown",
   "id": "3d5a23ce",
   "metadata": {},
   "source": [
    "Here's an example of a Vehicle class in Python with an __init__ method that initializes the instance variables name_of_vehicle, max_speed, and average_of_vehicle:"
   ]
  },
  {
   "cell_type": "code",
   "execution_count": 3,
   "id": "31d38a11",
   "metadata": {},
   "outputs": [
    {
     "name": "stdout",
     "output_type": "stream",
     "text": [
      "Car\n",
      "200\n",
      "50\n"
     ]
    }
   ],
   "source": [
    "class Vehicle:\n",
    "    def __init__(self, name_of_vehicle, max_speed, average_of_vehicle):\n",
    "        self.name_of_vehicle = name_of_vehicle\n",
    "        self.max_speed = max_speed\n",
    "        self.average_of_vehicle = average_of_vehicle\n",
    "   \n",
    "car = Vehicle(\"Car\", 200, 50)\n",
    "\n",
    "\n",
    "print(car.name_of_vehicle)  # Output: \"Car\"\n",
    "print(car.max_speed)        # Output: 200\n",
    "print(car.average_of_vehicle)  # Output: 50\n",
    "\n"
   ]
  },
  {
   "cell_type": "code",
   "execution_count": null,
   "id": "3b05e232",
   "metadata": {},
   "outputs": [],
   "source": []
  }
 ],
 "metadata": {
  "kernelspec": {
   "display_name": "Python 3 (ipykernel)",
   "language": "python",
   "name": "python3"
  },
  "language_info": {
   "codemirror_mode": {
    "name": "ipython",
    "version": 3
   },
   "file_extension": ".py",
   "mimetype": "text/x-python",
   "name": "python",
   "nbconvert_exporter": "python",
   "pygments_lexer": "ipython3",
   "version": "3.10.9"
  }
 },
 "nbformat": 4,
 "nbformat_minor": 5
}
