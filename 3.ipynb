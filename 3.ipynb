{
 "cells": [
  {
   "cell_type": "markdown",
   "id": "8742680e",
   "metadata": {},
   "source": [
    "Multiple inheritance is a feature in object-oriented programming where a class can inherit attributes and methods from multiple parent classes. In other words, a class can have more than one parent class, and it inherits the characteristics of all its parent classes."
   ]
  },
  {
   "cell_type": "code",
   "execution_count": 1,
   "id": "1e57c846",
   "metadata": {},
   "outputs": [
    {
     "name": "stdout",
     "output_type": "stream",
     "text": [
      "Method 1 from Parent 1\n",
      "Method 2 from Parent 2\n",
      "Method 3 from Child\n"
     ]
    }
   ],
   "source": [
    "class Parent1:\n",
    "    def method1(self):\n",
    "        print(\"Method 1 from Parent 1\")\n",
    "\n",
    "class Parent2:\n",
    "    def method2(self):\n",
    "        print(\"Method 2 from Parent 2\")\n",
    "\n",
    "class Child(Parent1, Parent2):\n",
    "    def method3(self):\n",
    "        print(\"Method 3 from Child\")\n",
    "\n",
    "# Create an instance of the Child class\n",
    "child = Child()\n",
    "\n",
    "# Access methods from Parent1\n",
    "child.method1()  # Output: \"Method 1 from Parent 1\"\n",
    "\n",
    "# Access methods from Parent2\n",
    "child.method2()  # Output: \"Method 2 from Parent 2\"\n",
    "\n",
    "# Access method from Child\n",
    "child.method3()  # Output: \"Method 3 from Child\"\n"
   ]
  },
  {
   "cell_type": "code",
   "execution_count": null,
   "id": "881e3a49",
   "metadata": {},
   "outputs": [],
   "source": []
  }
 ],
 "metadata": {
  "kernelspec": {
   "display_name": "Python 3 (ipykernel)",
   "language": "python",
   "name": "python3"
  },
  "language_info": {
   "codemirror_mode": {
    "name": "ipython",
    "version": 3
   },
   "file_extension": ".py",
   "mimetype": "text/x-python",
   "name": "python",
   "nbconvert_exporter": "python",
   "pygments_lexer": "ipython3",
   "version": "3.10.9"
  }
 },
 "nbformat": 4,
 "nbformat_minor": 5
}
