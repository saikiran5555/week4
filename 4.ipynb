{
 "cells": [
  {
   "cell_type": "markdown",
   "id": "d9809e98",
   "metadata": {},
   "source": [
    "In Python, getter and setter methods are used to control the access and modification of class attributes (instance variables). They provide a way to encapsulate attribute access and ensure data integrity by enforcing restrictions or performing additional actions when getting or setting the attribute value."
   ]
  },
  {
   "cell_type": "markdown",
   "id": "767d2dba",
   "metadata": {},
   "source": [
    "A getter method, also known as an accessor method, is used to retrieve the value of an attribute. It provides read-only access to the attribute. The naming convention for getter methods is to prefix the attribute name with \"get_\"."
   ]
  },
  {
   "cell_type": "markdown",
   "id": "e1ef691c",
   "metadata": {},
   "source": [
    "A setter method, also known as a mutator method, is used to modify the value of an attribute. It provides a way to set the attribute value, usually with additional validation or logic. The naming convention for setter methods is to prefix the attribute name with \"set_\"."
   ]
  },
  {
   "cell_type": "code",
   "execution_count": 1,
   "id": "df70044d",
   "metadata": {},
   "outputs": [
    {
     "name": "stdout",
     "output_type": "stream",
     "text": [
      "John\n"
     ]
    }
   ],
   "source": [
    "class Person:\n",
    "    def __init__(self):\n",
    "        self._name = \"\"\n",
    "\n",
    "    # Getter method for name attribute\n",
    "    def get_name(self):\n",
    "        return self._name\n",
    "\n",
    "    # Setter method for name attribute\n",
    "    def set_name(self, value):\n",
    "        self._name = value\n",
    "\n",
    "# Create an instance of the Person class\n",
    "person = Person()\n",
    "\n",
    "# Set the name using the setter method\n",
    "person.set_name(\"John\")\n",
    "\n",
    "# Get the name using the getter method\n",
    "name = person.get_name()\n",
    "print(name)  # Output: \"John\"\n"
   ]
  },
  {
   "cell_type": "code",
   "execution_count": null,
   "id": "4045bc2c",
   "metadata": {},
   "outputs": [],
   "source": []
  }
 ],
 "metadata": {
  "kernelspec": {
   "display_name": "Python 3 (ipykernel)",
   "language": "python",
   "name": "python3"
  },
  "language_info": {
   "codemirror_mode": {
    "name": "ipython",
    "version": 3
   },
   "file_extension": ".py",
   "mimetype": "text/x-python",
   "name": "python",
   "nbconvert_exporter": "python",
   "pygments_lexer": "ipython3",
   "version": "3.10.9"
  }
 },
 "nbformat": 4,
 "nbformat_minor": 5
}
