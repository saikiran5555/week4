{
 "cells": [
  {
   "cell_type": "markdown",
   "id": "0b8d0754",
   "metadata": {},
   "source": [
    "Method overriding is a feature in object-oriented programming where a subclass provides a different implementation of a method that is already defined in its superclass. It allows a subclass to modify the behavior of inherited methods to suit its specific requirements."
   ]
  },
  {
   "cell_type": "markdown",
   "id": "30935922",
   "metadata": {},
   "source": [
    "When a subclass overrides a method, it provides its own implementation of the method with the same name and signature as the method in the superclass. The overridden method in the subclass is called instead of the method in the superclass when the method is invoked on an instance of the subclass."
   ]
  },
  {
   "cell_type": "code",
   "execution_count": 1,
   "id": "7942aa13",
   "metadata": {},
   "outputs": [
    {
     "name": "stdout",
     "output_type": "stream",
     "text": [
      "Calculating area in Shape class\n",
      "Calculating area in Rectangle class\n"
     ]
    }
   ],
   "source": [
    "class Shape:\n",
    "    def area(self):\n",
    "        print(\"Calculating area in Shape class\")\n",
    "\n",
    "class Rectangle(Shape):\n",
    "    def area(self):\n",
    "        print(\"Calculating area in Rectangle class\")\n",
    "\n",
    "# Create instances of the classes\n",
    "shape = Shape()\n",
    "rectangle = Rectangle()\n",
    "\n",
    "# Invoke the area method on instances\n",
    "shape.area()      \n",
    "rectangle.area()   \n"
   ]
  },
  {
   "cell_type": "code",
   "execution_count": null,
   "id": "8a344fbc",
   "metadata": {},
   "outputs": [],
   "source": []
  },
  {
   "cell_type": "code",
   "execution_count": null,
   "id": "bb6ceddb",
   "metadata": {},
   "outputs": [],
   "source": []
  },
  {
   "cell_type": "code",
   "execution_count": null,
   "id": "0d142662",
   "metadata": {},
   "outputs": [],
   "source": []
  }
 ],
 "metadata": {
  "kernelspec": {
   "display_name": "Python 3 (ipykernel)",
   "language": "python",
   "name": "python3"
  },
  "language_info": {
   "codemirror_mode": {
    "name": "ipython",
    "version": 3
   },
   "file_extension": ".py",
   "mimetype": "text/x-python",
   "name": "python",
   "nbconvert_exporter": "python",
   "pygments_lexer": "ipython3",
   "version": "3.10.9"
  }
 },
 "nbformat": 4,
 "nbformat_minor": 5
}
